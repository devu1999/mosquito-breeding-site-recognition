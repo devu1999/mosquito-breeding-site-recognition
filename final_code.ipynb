{
 "cells": [
  {
   "cell_type": "code",
   "execution_count": 1,
   "metadata": {},
   "outputs": [],
   "source": [
    "#ALL LIBRARIES REQUIRED FOR CLASSIFIERS AND PROCESSING, MAJORLY SK-LEARN,CV2 AND NUMPY\n",
    "import os\n",
    "import cv2 \n",
    "import numpy as np\n",
    "from sklearn.decomposition import PCA \n",
    "from sklearn.model_selection import train_test_split\n",
    "from sklearn.svm import SVC\n",
    "from sklearn.naive_bayes import GaussianNB\n",
    "from sklearn.naive_bayes import BernoulliNB\n",
    "from sklearn.feature_extraction import DictVectorizer\n",
    "from sklearn.naive_bayes import MultinomialNB\n",
    "from sklearn.naive_bayes import BernoulliNB\n",
    "from sklearn.linear_model import LogisticRegression, SGDClassifier\n",
    "from sklearn.svm import LinearSVC\n",
    "from sklearn.ensemble import RandomForestClassifier\n",
    "from sklearn.neural_network import MLPClassifier\n",
    "from imblearn.over_sampling import SMOTE\n",
    "from sklearn.preprocessing import MinMaxScaler\n",
    "from sklearn.preprocessing import StandardScaler\n",
    "from sklearn.model_selection import ShuffleSplit\n",
    "from sklearn.feature_extraction.text import CountVectorizer\n",
    "from sklearn.metrics import accuracy_score, f1_score, confusion_matrix\n",
    "import warnings\n",
    "from sklearn.discriminant_analysis import LinearDiscriminantAnalysis as LDA\n",
    "warnings.filterwarnings(\"ignore\")\n",
    "from sklearn.externals import joblib\n"
   ]
  },
  {
   "cell_type": "code",
   "execution_count": 2,
   "metadata": {},
   "outputs": [],
   "source": [
    "#RETURNS PCA FOR A SET OF VECTORS\n",
    "def getPCA(X,k):\n",
    "    pca = PCA(n_components=k)\n",
    "    X_k = pca.fit_transform(X)\n",
    "    return X_k\n"
   ]
  },
  {
   "cell_type": "code",
   "execution_count": 3,
   "metadata": {},
   "outputs": [],
   "source": [
    "#RETURNS LDA FOR A SET OF VECTORS\n",
    "def getLDA(X,k):\n",
    "    lda = LDA(n_components=k)\n",
    "    X_k = lda.fit_transform(X)\n",
    "    return X_k"
   ]
  },
  {
   "cell_type": "code",
   "execution_count": 4,
   "metadata": {},
   "outputs": [],
   "source": [
    "#RETURNS SIFT KEYPOINTS AND FEATURES FOR AN INPUT IMAGE\n",
    "def getSift(img):\n",
    "    img = cv2.imread(img)\n",
    "    sift = cv2.xfeatures2d.SIFT_create()\n",
    "    return sift.detectAndCompute(img,None)"
   ]
  },
  {
   "cell_type": "code",
   "execution_count": 5,
   "metadata": {},
   "outputs": [],
   "source": [
    "#RETURNS A VECTOR REPRESENTATION FOR AN IMAGE\n",
    "def getImgRep(img):\n",
    "    global cnt\n",
    "    kp,desc=getSift(img)\n",
    "    return np.mean(np.array(desc).T,axis=1)\n",
    "    "
   ]
  },
  {
   "cell_type": "code",
   "execution_count": 6,
   "metadata": {},
   "outputs": [],
   "source": [
    "dir  = './dip_project/data/'"
   ]
  },
  {
   "cell_type": "code",
   "execution_count": 7,
   "metadata": {},
   "outputs": [],
   "source": [
    "#LABEL AND STORE THE DATA ACROSS ALL FOLDERS\n",
    "def Label_Data():\n",
    "    ImgData,label=[],[]\n",
    "    for filename in os.listdir(dir + \"rgb_with_puddle\"):\n",
    "        try:\n",
    "            ret=getImgRep((dir + \"rgb_with_puddle/\"+filename))\n",
    "            ImgData.append(ret.ravel())\n",
    "            label.append(1)\n",
    "        except:\n",
    "            pass\n",
    "    for filename in os.listdir(dir + \"rgb_without_puddle\"):\n",
    "        try:\n",
    "            ret=getImgRep((dir  + \"rgb_without_puddle/\"+filename))\n",
    "            ImgData.append(ret.ravel())\n",
    "            label.append(0)\n",
    "        except:\n",
    "            pass\n",
    "\n",
    "    for filename in os.listdir(dir + \"rotated_without_puddle\"):\n",
    "        try:            \n",
    "            ret=getImgRep((dir  + \"rotated_without_puddle/\"+filename))\n",
    "            ImgData.append(ret.ravel())\n",
    "            label.append(0)\n",
    "        except:\n",
    "            pass\n",
    "    for filename in os.listdir(dir + \"rotated_with_puddle\"):\n",
    "        try:\n",
    "            ret=getImgRep((dir  + \"rotated_with_puddle/\"+filename))\n",
    "            ImgData.append(ret.ravel())\n",
    "            label.append(1)\n",
    "        except:\n",
    "            pass\n",
    "    \n",
    "\n",
    "    return np.array(ImgData),np.array(label)\n"
   ]
  },
  {
   "cell_type": "code",
   "execution_count": 8,
   "metadata": {},
   "outputs": [],
   "source": [
    "#SPLIT DATA INTO TRAINING AND TESTING SETS\n",
    "def Split_Data(data,label,x=8):\n",
    "    X_train,X_test,Y_train,Y_test = train_test_split(np.array(data),np.array(label),test_size=0.2,random_state=x)\n",
    "    sm = SMOTE()\n",
    "    X_train, Y_train = sm.fit_sample(X_train, Y_train)\n",
    "    return X_train,X_test,Y_train,Y_test"
   ]
  },
  {
   "cell_type": "code",
   "execution_count": 9,
   "metadata": {},
   "outputs": [],
   "source": [
    "#CALL ABOVE FUNCTIONS\n",
    "data,label=Label_Data()\n"
   ]
  },
  {
   "cell_type": "code",
   "execution_count": 10,
   "metadata": {},
   "outputs": [],
   "source": [
    "X_train,X_test,Y_train,Y_test=Split_Data(data,label)"
   ]
  },
  {
   "cell_type": "code",
   "execution_count": 28,
   "metadata": {
    "scrolled": true
   },
   "outputs": [
    {
     "name": "stdout",
     "output_type": "stream",
     "text": [
      "0.7647058823529411\n"
     ]
    }
   ],
   "source": [
    "\n",
    "from sklearn.ensemble import VotingClassifier\n",
    "\n",
    "cv = ShuffleSplit(n_splits=10, test_size=0.2)\n",
    "\n",
    "#DEFINE MODELS FOR MAJORITY VOTING\n",
    "models = [\n",
    "    MultinomialNB(),\n",
    "    BernoulliNB(),\n",
    "    LogisticRegression(),\n",
    "    SGDClassifier(),\n",
    "    SVC(gamma=\"auto\",kernel='rbf'),\n",
    "    RandomForestClassifier(),\n",
    "]\n",
    "\n",
    "m_names = [m.__class__.__name__ for m in models]\n",
    "\n",
    "models = list(zip(m_names, models))\n",
    "\n",
    "#MAJORITY VOTING\n",
    "vc = VotingClassifier(estimators=models)\n",
    "\n",
    "\n",
    "sm = SMOTE()\n",
    "\n",
    "\n",
    "accs = []\n",
    "f1s = []\n",
    "cms = []\n",
    "\n",
    "#PREPARE DATA FOR TRAINING\n",
    "X_train,X_test,y_train,y_test = train_test_split(np.array(data),np.array(label),test_size=0.2,random_state=86)\n",
    "\n",
    "X_train_res, y_train_res = sm.fit_sample(X_train, y_train)\n",
    "\n",
    "#TRAINING STEP\n",
    "vc.fit(X_train_res, y_train_res)\n",
    "\n",
    "#TESTING STEP\n",
    "y_pred = vc.predict(X_test)\n",
    "\n",
    "#AVERAGE METRICS\n",
    "accs.append(accuracy_score(y_test, y_pred))\n",
    "f1s.append(f1_score(y_test, y_pred))\n",
    "cms.append(confusion_matrix(y_test, y_pred))\n",
    "\n",
    "print(accuracy_score(y_test, y_pred))"
   ]
  },
  {
   "cell_type": "code",
   "execution_count": 29,
   "metadata": {},
   "outputs": [
    {
     "name": "stdout",
     "output_type": "stream",
     "text": [
      "Voting Classifier\n",
      "------------------------------\n",
      "Avg. Accuracy: 76.47%\n",
      "Avg. F1 Score: 75.00\n",
      "Confusion Matrix:\n",
      " [[84. 18.]\n",
      " [30. 72.]]\n"
     ]
    }
   ],
   "source": [
    "print(\"Voting Classifier\")\n",
    "print(\"-\" * 30)\n",
    "print(\"Avg. Accuracy: {:.2f}%\".format(sum(accs) / len(accs) * 100))\n",
    "print(\"Avg. F1 Score: {:.2f}\".format(sum(f1s) / len(f1s) * 100))\n",
    "print(\"Confusion Matrix:\\n\", sum(cms) / len(cms))"
   ]
  },
  {
   "cell_type": "code",
   "execution_count": null,
   "metadata": {},
   "outputs": [],
   "source": [
    "maxi"
   ]
  },
  {
   "cell_type": "code",
   "execution_count": null,
   "metadata": {},
   "outputs": [],
   "source": [
    "joblib.dump(vc, 'filename_77.pkl') \n"
   ]
  },
  {
   "cell_type": "code",
   "execution_count": null,
   "metadata": {},
   "outputs": [],
   "source": [
    "clf = joblib.load('filename.pkl')\n"
   ]
  },
  {
   "cell_type": "code",
   "execution_count": null,
   "metadata": {},
   "outputs": [],
   "source": [
    "clf.get_params()"
   ]
  },
  {
   "cell_type": "code",
   "execution_count": null,
   "metadata": {},
   "outputs": [],
   "source": [
    "img = './dip_project/dataset/rgb_with_puddle/' + 'download.jpg'"
   ]
  },
  {
   "cell_type": "code",
   "execution_count": null,
   "metadata": {},
   "outputs": [],
   "source": [
    "img = getImgRep(img)"
   ]
  },
  {
   "cell_type": "code",
   "execution_count": null,
   "metadata": {},
   "outputs": [],
   "source": [
    "img = img.ravel()\n",
    "img.shape\n",
    "x = []\n",
    "x.append(img)"
   ]
  },
  {
   "cell_type": "code",
   "execution_count": null,
   "metadata": {},
   "outputs": [],
   "source": [
    "y = clf.predict(x)"
   ]
  },
  {
   "cell_type": "code",
   "execution_count": null,
   "metadata": {},
   "outputs": [],
   "source": [
    "type(y[0])"
   ]
  },
  {
   "cell_type": "code",
   "execution_count": null,
   "metadata": {},
   "outputs": [],
   "source": []
  }
 ],
 "metadata": {
  "kernelspec": {
   "display_name": "Python 3",
   "language": "python",
   "name": "python3"
  },
  "language_info": {
   "codemirror_mode": {
    "name": "ipython",
    "version": 3
   },
   "file_extension": ".py",
   "mimetype": "text/x-python",
   "name": "python",
   "nbconvert_exporter": "python",
   "pygments_lexer": "ipython3",
   "version": "3.5.2"
  }
 },
 "nbformat": 4,
 "nbformat_minor": 2
}
